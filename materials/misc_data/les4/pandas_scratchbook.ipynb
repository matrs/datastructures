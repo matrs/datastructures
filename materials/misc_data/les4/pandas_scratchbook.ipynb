{
 "cells": [
  {
   "cell_type": "code",
   "execution_count": 1,
   "metadata": {
    "collapsed": false
   },
   "outputs": [
    {
     "name": "stdout",
     "output_type": "stream",
     "text": [
      "4_results.tsv            pandas_scratchbook.ipynb\r\n"
     ]
    }
   ],
   "source": [
    "!ls"
   ]
  },
  {
   "cell_type": "code",
   "execution_count": 30,
   "metadata": {
    "collapsed": true
   },
   "outputs": [],
   "source": [
    "import pandas as pd\n",
    "import numpy as np"
   ]
  },
  {
   "cell_type": "code",
   "execution_count": 7,
   "metadata": {
    "collapsed": false
   },
   "outputs": [
    {
     "data": {
      "text/html": [
       "<div>\n",
       "<table border=\"1\" class=\"dataframe\">\n",
       "  <thead>\n",
       "    <tr style=\"text-align: right;\">\n",
       "      <th></th>\n",
       "      <th>method</th>\n",
       "      <th>dataset</th>\n",
       "      <th>APSI</th>\n",
       "      <th>APSSI</th>\n",
       "      <th>SPS</th>\n",
       "      <th>SCI</th>\n",
       "      <th>braliSCI</th>\n",
       "      <th>uniq</th>\n",
       "      <th>k</th>\n",
       "    </tr>\n",
       "  </thead>\n",
       "  <tbody>\n",
       "    <tr>\n",
       "      <th>0</th>\n",
       "      <td>mafftx</td>\n",
       "      <td>SRP_euk_arch</td>\n",
       "      <td>31</td>\n",
       "      <td>-1</td>\n",
       "      <td>0.167164</td>\n",
       "      <td>0.8495</td>\n",
       "      <td>96</td>\n",
       "      <td>1</td>\n",
       "      <td>2</td>\n",
       "    </tr>\n",
       "    <tr>\n",
       "      <th>1</th>\n",
       "      <td>mafftx</td>\n",
       "      <td>SRP_euk_arch</td>\n",
       "      <td>45</td>\n",
       "      <td>-1</td>\n",
       "      <td>0.136054</td>\n",
       "      <td>0.9582</td>\n",
       "      <td>87</td>\n",
       "      <td>1</td>\n",
       "      <td>2</td>\n",
       "    </tr>\n",
       "    <tr>\n",
       "      <th>2</th>\n",
       "      <td>mafftx</td>\n",
       "      <td>SRP_euk_arch</td>\n",
       "      <td>36</td>\n",
       "      <td>-1</td>\n",
       "      <td>0.115152</td>\n",
       "      <td>0.5542</td>\n",
       "      <td>77</td>\n",
       "      <td>1</td>\n",
       "      <td>2</td>\n",
       "    </tr>\n",
       "    <tr>\n",
       "      <th>3</th>\n",
       "      <td>mafftx</td>\n",
       "      <td>SRP_euk_arch</td>\n",
       "      <td>57</td>\n",
       "      <td>-1</td>\n",
       "      <td>0.218543</td>\n",
       "      <td>1.0035</td>\n",
       "      <td>110</td>\n",
       "      <td>1</td>\n",
       "      <td>2</td>\n",
       "    </tr>\n",
       "    <tr>\n",
       "      <th>4</th>\n",
       "      <td>mafftx</td>\n",
       "      <td>SRP_euk_arch</td>\n",
       "      <td>56</td>\n",
       "      <td>-1</td>\n",
       "      <td>0.717608</td>\n",
       "      <td>1.1120</td>\n",
       "      <td>110</td>\n",
       "      <td>2</td>\n",
       "      <td>2</td>\n",
       "    </tr>\n",
       "  </tbody>\n",
       "</table>\n",
       "</div>"
      ],
      "text/plain": [
       "   method       dataset  APSI  APSSI       SPS     SCI  braliSCI  uniq  k\n",
       "0  mafftx  SRP_euk_arch    31     -1  0.167164  0.8495        96     1  2\n",
       "1  mafftx  SRP_euk_arch    45     -1  0.136054  0.9582        87     1  2\n",
       "2  mafftx  SRP_euk_arch    36     -1  0.115152  0.5542        77     1  2\n",
       "3  mafftx  SRP_euk_arch    57     -1  0.218543  1.0035       110     1  2\n",
       "4  mafftx  SRP_euk_arch    56     -1  0.717608  1.1120       110     2  2"
      ]
     },
     "execution_count": 7,
     "metadata": {},
     "output_type": "execute_result"
    }
   ],
   "source": [
    "df= pd.read_table('4_results.tsv', sep=\"\\t\")\n",
    "\n",
    "df.head()"
   ]
  },
  {
   "cell_type": "code",
   "execution_count": 38,
   "metadata": {
    "collapsed": false
   },
   "outputs": [
    {
     "data": {
      "text/plain": [
       "(94950, 9)"
      ]
     },
     "execution_count": 38,
     "metadata": {},
     "output_type": "execute_result"
    }
   ],
   "source": [
    "df.shape"
   ]
  },
  {
   "cell_type": "code",
   "execution_count": 39,
   "metadata": {
    "collapsed": false
   },
   "outputs": [
    {
     "data": {
      "text/plain": [
       "method       object\n",
       "dataset      object\n",
       "APSI          int64\n",
       "APSSI         int64\n",
       "SPS         float64\n",
       "SCI         float64\n",
       "braliSCI      int64\n",
       "uniq          int64\n",
       "k             int64\n",
       "dtype: object"
      ]
     },
     "execution_count": 39,
     "metadata": {},
     "output_type": "execute_result"
    }
   ],
   "source": [
    "df.dtypes"
   ]
  },
  {
   "cell_type": "code",
   "execution_count": 32,
   "metadata": {
    "collapsed": false
   },
   "outputs": [
    {
     "name": "stdout",
     "output_type": "stream",
     "text": [
      "['mafftx' 'sparse' 'beagles' 'mlocarna' 'raf']\n",
      "['SRP_euk_arch' 'gcvT' '5_8S_rRNA' 'U6' 'Histone3' 'Entero_OriR' 'S_box'\n",
      " 'sno_14q_I_II' 'Hammerhead_3' 'Cobalamin' 'TAR' 'Lysine' 'UnaL2'\n",
      " 'HCV_SLIV' 'Hammerhead_1' 'HIV_FE' 'THI' 'yybP-ykoY' 'T-box' 'HIV_GSL3'\n",
      " 'tRNA' 'IRES_HCV' 'SRP_bact' 'Entero_5_CRE' 'U1' 'Intron_gpII' 'SECIS'\n",
      " 'U2' 'Retroviral_psi' 'IRES_Picorna' 'HCV_SLVII' 'HIV_PBS' '5S_rRNA'\n",
      " 'Entero_CRE' 'K_chan_RES' 'HepC_CRE']\n"
     ]
    },
    {
     "data": {
      "text/plain": [
       "array([1, 2, 3])"
      ]
     },
     "execution_count": 32,
     "metadata": {},
     "output_type": "execute_result"
    }
   ],
   "source": [
    "print(df.method.unique())\n",
    "print(df.dataset.unique())\n",
    "np.unique(np.array([1,1,2,3]))"
   ]
  },
  {
   "cell_type": "code",
   "execution_count": 33,
   "metadata": {
    "collapsed": false
   },
   "outputs": [
    {
     "name": "stdout",
     "output_type": "stream",
     "text": [
      "<class 'pandas.core.frame.DataFrame'>\n",
      "RangeIndex: 94950 entries, 0 to 94949\n",
      "Data columns (total 9 columns):\n",
      "method      94950 non-null object\n",
      "dataset     94950 non-null object\n",
      "APSI        94950 non-null int64\n",
      "APSSI       94950 non-null int64\n",
      "SPS         94950 non-null float64\n",
      "SCI         94950 non-null float64\n",
      "braliSCI    94950 non-null int64\n",
      "uniq        94950 non-null int64\n",
      "k           94950 non-null int64\n",
      "dtypes: float64(2), int64(5), object(2)\n",
      "memory usage: 6.5+ MB\n"
     ]
    }
   ],
   "source": [
    "df.info()"
   ]
  },
  {
   "cell_type": "code",
   "execution_count": 37,
   "metadata": {
    "collapsed": false
   },
   "outputs": [
    {
     "data": {
      "text/html": [
       "<div>\n",
       "<table border=\"1\" class=\"dataframe\">\n",
       "  <thead>\n",
       "    <tr style=\"text-align: right;\">\n",
       "      <th></th>\n",
       "      <th>method</th>\n",
       "      <th>dataset</th>\n",
       "      <th>APSI</th>\n",
       "      <th>APSSI</th>\n",
       "      <th>SPS</th>\n",
       "      <th>SCI</th>\n",
       "      <th>braliSCI</th>\n",
       "      <th>uniq</th>\n",
       "      <th>k</th>\n",
       "    </tr>\n",
       "  </thead>\n",
       "  <tbody>\n",
       "    <tr>\n",
       "      <th>count</th>\n",
       "      <td>94950</td>\n",
       "      <td>94950</td>\n",
       "      <td>94950.000000</td>\n",
       "      <td>94950.0</td>\n",
       "      <td>94950.000000</td>\n",
       "      <td>94950.000000</td>\n",
       "      <td>94950.000000</td>\n",
       "      <td>94950.000000</td>\n",
       "      <td>94950.000000</td>\n",
       "    </tr>\n",
       "    <tr>\n",
       "      <th>unique</th>\n",
       "      <td>5</td>\n",
       "      <td>36</td>\n",
       "      <td>NaN</td>\n",
       "      <td>NaN</td>\n",
       "      <td>NaN</td>\n",
       "      <td>NaN</td>\n",
       "      <td>NaN</td>\n",
       "      <td>NaN</td>\n",
       "      <td>NaN</td>\n",
       "    </tr>\n",
       "    <tr>\n",
       "      <th>top</th>\n",
       "      <td>raf</td>\n",
       "      <td>tRNA</td>\n",
       "      <td>NaN</td>\n",
       "      <td>NaN</td>\n",
       "      <td>NaN</td>\n",
       "      <td>NaN</td>\n",
       "      <td>NaN</td>\n",
       "      <td>NaN</td>\n",
       "      <td>NaN</td>\n",
       "    </tr>\n",
       "    <tr>\n",
       "      <th>freq</th>\n",
       "      <td>18990</td>\n",
       "      <td>20110</td>\n",
       "      <td>NaN</td>\n",
       "      <td>NaN</td>\n",
       "      <td>NaN</td>\n",
       "      <td>NaN</td>\n",
       "      <td>NaN</td>\n",
       "      <td>NaN</td>\n",
       "      <td>NaN</td>\n",
       "    </tr>\n",
       "    <tr>\n",
       "      <th>mean</th>\n",
       "      <td>NaN</td>\n",
       "      <td>NaN</td>\n",
       "      <td>68.557504</td>\n",
       "      <td>-1.0</td>\n",
       "      <td>0.595140</td>\n",
       "      <td>0.930547</td>\n",
       "      <td>93.983044</td>\n",
       "      <td>1.652185</td>\n",
       "      <td>3.710321</td>\n",
       "    </tr>\n",
       "    <tr>\n",
       "      <th>std</th>\n",
       "      <td>NaN</td>\n",
       "      <td>NaN</td>\n",
       "      <td>19.517234</td>\n",
       "      <td>0.0</td>\n",
       "      <td>0.334326</td>\n",
       "      <td>0.221283</td>\n",
       "      <td>17.189719</td>\n",
       "      <td>1.497587</td>\n",
       "      <td>2.769626</td>\n",
       "    </tr>\n",
       "    <tr>\n",
       "      <th>min</th>\n",
       "      <td>NaN</td>\n",
       "      <td>NaN</td>\n",
       "      <td>16.000000</td>\n",
       "      <td>-1.0</td>\n",
       "      <td>0.000000</td>\n",
       "      <td>-0.000000</td>\n",
       "      <td>66.000000</td>\n",
       "      <td>1.000000</td>\n",
       "      <td>2.000000</td>\n",
       "    </tr>\n",
       "    <tr>\n",
       "      <th>25%</th>\n",
       "      <td>NaN</td>\n",
       "      <td>NaN</td>\n",
       "      <td>51.000000</td>\n",
       "      <td>-1.0</td>\n",
       "      <td>0.274257</td>\n",
       "      <td>0.817900</td>\n",
       "      <td>80.000000</td>\n",
       "      <td>1.000000</td>\n",
       "      <td>2.000000</td>\n",
       "    </tr>\n",
       "    <tr>\n",
       "      <th>50%</th>\n",
       "      <td>NaN</td>\n",
       "      <td>NaN</td>\n",
       "      <td>71.000000</td>\n",
       "      <td>-1.0</td>\n",
       "      <td>0.610781</td>\n",
       "      <td>0.958400</td>\n",
       "      <td>93.000000</td>\n",
       "      <td>1.000000</td>\n",
       "      <td>3.000000</td>\n",
       "    </tr>\n",
       "    <tr>\n",
       "      <th>75%</th>\n",
       "      <td>NaN</td>\n",
       "      <td>NaN</td>\n",
       "      <td>87.000000</td>\n",
       "      <td>-1.0</td>\n",
       "      <td>0.957627</td>\n",
       "      <td>1.060100</td>\n",
       "      <td>104.000000</td>\n",
       "      <td>2.000000</td>\n",
       "      <td>5.000000</td>\n",
       "    </tr>\n",
       "    <tr>\n",
       "      <th>max</th>\n",
       "      <td>NaN</td>\n",
       "      <td>NaN</td>\n",
       "      <td>95.000000</td>\n",
       "      <td>-1.0</td>\n",
       "      <td>1.000000</td>\n",
       "      <td>2.014000</td>\n",
       "      <td>175.000000</td>\n",
       "      <td>21.000000</td>\n",
       "      <td>15.000000</td>\n",
       "    </tr>\n",
       "  </tbody>\n",
       "</table>\n",
       "</div>"
      ],
      "text/plain": [
       "       method dataset          APSI    APSSI           SPS           SCI  \\\n",
       "count   94950   94950  94950.000000  94950.0  94950.000000  94950.000000   \n",
       "unique      5      36           NaN      NaN           NaN           NaN   \n",
       "top       raf    tRNA           NaN      NaN           NaN           NaN   \n",
       "freq    18990   20110           NaN      NaN           NaN           NaN   \n",
       "mean      NaN     NaN     68.557504     -1.0      0.595140      0.930547   \n",
       "std       NaN     NaN     19.517234      0.0      0.334326      0.221283   \n",
       "min       NaN     NaN     16.000000     -1.0      0.000000     -0.000000   \n",
       "25%       NaN     NaN     51.000000     -1.0      0.274257      0.817900   \n",
       "50%       NaN     NaN     71.000000     -1.0      0.610781      0.958400   \n",
       "75%       NaN     NaN     87.000000     -1.0      0.957627      1.060100   \n",
       "max       NaN     NaN     95.000000     -1.0      1.000000      2.014000   \n",
       "\n",
       "            braliSCI          uniq             k  \n",
       "count   94950.000000  94950.000000  94950.000000  \n",
       "unique           NaN           NaN           NaN  \n",
       "top              NaN           NaN           NaN  \n",
       "freq             NaN           NaN           NaN  \n",
       "mean       93.983044      1.652185      3.710321  \n",
       "std        17.189719      1.497587      2.769626  \n",
       "min        66.000000      1.000000      2.000000  \n",
       "25%        80.000000      1.000000      2.000000  \n",
       "50%        93.000000      1.000000      3.000000  \n",
       "75%       104.000000      2.000000      5.000000  \n",
       "max       175.000000     21.000000     15.000000  "
      ]
     },
     "execution_count": 37,
     "metadata": {},
     "output_type": "execute_result"
    }
   ],
   "source": [
    "df.describe(include='all')"
   ]
  },
  {
   "cell_type": "code",
   "execution_count": 35,
   "metadata": {
    "collapsed": true
   },
   "outputs": [],
   "source": [
    "df.describe?"
   ]
  },
  {
   "cell_type": "code",
   "execution_count": 16,
   "metadata": {
    "collapsed": false
   },
   "outputs": [
    {
     "data": {
      "text/plain": [
       "1    mafftx\n",
       "2    mafftx\n",
       "Name: method, dtype: object"
      ]
     },
     "execution_count": 16,
     "metadata": {},
     "output_type": "execute_result"
    }
   ],
   "source": [
    "df.iloc[1:3,0]"
   ]
  },
  {
   "cell_type": "code",
   "execution_count": 46,
   "metadata": {
    "collapsed": false,
    "scrolled": true
   },
   "outputs": [
    {
     "data": {
      "text/html": [
       "<div>\n",
       "<table border=\"1\" class=\"dataframe\">\n",
       "  <thead>\n",
       "    <tr style=\"text-align: right;\">\n",
       "      <th></th>\n",
       "      <th>method</th>\n",
       "      <th>dataset</th>\n",
       "      <th>APSI</th>\n",
       "      <th>APSSI</th>\n",
       "      <th>SPS</th>\n",
       "      <th>SCI</th>\n",
       "      <th>braliSCI</th>\n",
       "      <th>uniq</th>\n",
       "      <th>k</th>\n",
       "    </tr>\n",
       "  </thead>\n",
       "  <tbody>\n",
       "    <tr>\n",
       "      <th>22868</th>\n",
       "      <td>sparse</td>\n",
       "      <td>tRNA</td>\n",
       "      <td>47</td>\n",
       "      <td>-1</td>\n",
       "      <td>0.959459</td>\n",
       "      <td>1.2151</td>\n",
       "      <td>112</td>\n",
       "      <td>2</td>\n",
       "      <td>2</td>\n",
       "    </tr>\n",
       "    <tr>\n",
       "      <th>77871</th>\n",
       "      <td>raf</td>\n",
       "      <td>HIV_FE</td>\n",
       "      <td>90</td>\n",
       "      <td>-1</td>\n",
       "      <td>1.000000</td>\n",
       "      <td>1.0084</td>\n",
       "      <td>100</td>\n",
       "      <td>5</td>\n",
       "      <td>2</td>\n",
       "    </tr>\n",
       "    <tr>\n",
       "      <th>1696</th>\n",
       "      <td>mafftx</td>\n",
       "      <td>HIV_FE</td>\n",
       "      <td>87</td>\n",
       "      <td>-1</td>\n",
       "      <td>1.000000</td>\n",
       "      <td>1.0000</td>\n",
       "      <td>96</td>\n",
       "      <td>7</td>\n",
       "      <td>2</td>\n",
       "    </tr>\n",
       "    <tr>\n",
       "      <th>50677</th>\n",
       "      <td>beagles</td>\n",
       "      <td>THI</td>\n",
       "      <td>48</td>\n",
       "      <td>-1</td>\n",
       "      <td>0.147541</td>\n",
       "      <td>0.5124</td>\n",
       "      <td>86</td>\n",
       "      <td>1</td>\n",
       "      <td>3</td>\n",
       "    </tr>\n",
       "    <tr>\n",
       "      <th>20663</th>\n",
       "      <td>sparse</td>\n",
       "      <td>HIV_FE</td>\n",
       "      <td>92</td>\n",
       "      <td>-1</td>\n",
       "      <td>1.000000</td>\n",
       "      <td>1.0617</td>\n",
       "      <td>101</td>\n",
       "      <td>8</td>\n",
       "      <td>2</td>\n",
       "    </tr>\n",
       "    <tr>\n",
       "      <th>17261</th>\n",
       "      <td>mafftx</td>\n",
       "      <td>tRNA</td>\n",
       "      <td>46</td>\n",
       "      <td>-1</td>\n",
       "      <td>0.233333</td>\n",
       "      <td>0.9266</td>\n",
       "      <td>121</td>\n",
       "      <td>1</td>\n",
       "      <td>5</td>\n",
       "    </tr>\n",
       "    <tr>\n",
       "      <th>90926</th>\n",
       "      <td>raf</td>\n",
       "      <td>SECIS</td>\n",
       "      <td>39</td>\n",
       "      <td>-1</td>\n",
       "      <td>0.386473</td>\n",
       "      <td>1.0666</td>\n",
       "      <td>87</td>\n",
       "      <td>1</td>\n",
       "      <td>3</td>\n",
       "    </tr>\n",
       "    <tr>\n",
       "      <th>26622</th>\n",
       "      <td>sparse</td>\n",
       "      <td>5S_rRNA</td>\n",
       "      <td>37</td>\n",
       "      <td>-1</td>\n",
       "      <td>0.122951</td>\n",
       "      <td>1.1713</td>\n",
       "      <td>107</td>\n",
       "      <td>1</td>\n",
       "      <td>2</td>\n",
       "    </tr>\n",
       "    <tr>\n",
       "      <th>18766</th>\n",
       "      <td>mafftx</td>\n",
       "      <td>tRNA</td>\n",
       "      <td>43</td>\n",
       "      <td>-1</td>\n",
       "      <td>0.627706</td>\n",
       "      <td>1.2773</td>\n",
       "      <td>128</td>\n",
       "      <td>1</td>\n",
       "      <td>15</td>\n",
       "    </tr>\n",
       "    <tr>\n",
       "      <th>69372</th>\n",
       "      <td>mlocarna</td>\n",
       "      <td>HIV_FE</td>\n",
       "      <td>85</td>\n",
       "      <td>-1</td>\n",
       "      <td>1.000000</td>\n",
       "      <td>0.9234</td>\n",
       "      <td>86</td>\n",
       "      <td>1</td>\n",
       "      <td>3</td>\n",
       "    </tr>\n",
       "  </tbody>\n",
       "</table>\n",
       "</div>"
      ],
      "text/plain": [
       "         method  dataset  APSI  APSSI       SPS     SCI  braliSCI  uniq   k\n",
       "22868    sparse     tRNA    47     -1  0.959459  1.2151       112     2   2\n",
       "77871       raf   HIV_FE    90     -1  1.000000  1.0084       100     5   2\n",
       "1696     mafftx   HIV_FE    87     -1  1.000000  1.0000        96     7   2\n",
       "50677   beagles      THI    48     -1  0.147541  0.5124        86     1   3\n",
       "20663    sparse   HIV_FE    92     -1  1.000000  1.0617       101     8   2\n",
       "17261    mafftx     tRNA    46     -1  0.233333  0.9266       121     1   5\n",
       "90926       raf    SECIS    39     -1  0.386473  1.0666        87     1   3\n",
       "26622    sparse  5S_rRNA    37     -1  0.122951  1.1713       107     1   2\n",
       "18766    mafftx     tRNA    43     -1  0.627706  1.2773       128     1  15\n",
       "69372  mlocarna   HIV_FE    85     -1  1.000000  0.9234        86     1   3"
      ]
     },
     "execution_count": 46,
     "metadata": {},
     "output_type": "execute_result"
    }
   ],
   "source": [
    "#boolean indexing (how many with SPS over 75%?)\n",
    "df.sample(10)"
   ]
  },
  {
   "cell_type": "code",
   "execution_count": 56,
   "metadata": {
    "collapsed": false,
    "scrolled": true
   },
   "outputs": [],
   "source": [
    "#groupby\n",
    "by_meth = df.groupby('method')\n",
    "by_meth.mean()\n",
    "\n",
    "by_meth_ds = df.groupby(['method','dataset'])\n",
    "by_meth_ds.mean()\n",
    "##SPS medio per methodo, dataset e APSI\n",
    "\n",
    "by_meth_APSI = df.groupby(['method','APSI'])\n",
    "data=by_meth_APSI.SPS.mean()"
   ]
  },
  {
   "cell_type": "code",
   "execution_count": 68,
   "metadata": {
    "collapsed": false,
    "scrolled": true
   },
   "outputs": [
    {
     "data": {
      "text/plain": [
       "MultiIndex(levels=[['beagles', 'mafftx', 'mlocarna', 'raf', 'sparse'], [16, 18, 19, 20, 21, 22, 23, 24, 25, 26, 27, 28, 30, 31, 32, 33, 34, 35, 36, 37, 38, 39, 40, 41, 42, 43, 44, 45, 46, 47, 48, 49, 50, 51, 52, 53, 54, 55, 56, 57, 59, 60, 61, 62, 63, 64, 65, 66, 67, 68, 69, 70, 71, 72, 73, 74, 75, 76, 77, 78, 79, 80, 81, 82, 83, 84, 85, 86, 87, 88, 89, 90, 91, 92, 93, 94, 95]],\n",
       "           labels=[[0, 0, 0, 0, 0, 0, 0, 0, 0, 0, 0, 0, 0, 0, 0, 0, 0, 0, 0, 0, 0, 0, 0, 0, 0, 0, 0, 0, 0, 0, 0, 0, 0, 0, 0, 0, 0, 0, 0, 0, 0, 0, 0, 0, 0, 0, 0, 0, 0, 0, 0, 0, 0, 0, 0, 0, 0, 0, 0, 0, 0, 0, 0, 0, 0, 0, 0, 0, 0, 0, 0, 0, 0, 0, 0, 0, 0, 1, 1, 1, 1, 1, 1, 1, 1, 1, 1, 1, 1, 1, 1, 1, 1, 1, 1, 1, 1, 1, 1, 1, 1, 1, 1, 1, 1, 1, 1, 1, 1, 1, 1, 1, 1, 1, 1, 1, 1, 1, 1, 1, 1, 1, 1, 1, 1, 1, 1, 1, 1, 1, 1, 1, 1, 1, 1, 1, 1, 1, 1, 1, 1, 1, 1, 1, 1, 1, 1, 1, 1, 1, 1, 1, 1, 1, 2, 2, 2, 2, 2, 2, 2, 2, 2, 2, 2, 2, 2, 2, 2, 2, 2, 2, 2, 2, 2, 2, 2, 2, 2, 2, 2, 2, 2, 2, 2, 2, 2, 2, 2, 2, 2, 2, 2, 2, 2, 2, 2, 2, 2, 2, 2, 2, 2, 2, 2, 2, 2, 2, 2, 2, 2, 2, 2, 2, 2, 2, 2, 2, 2, 2, 2, 2, 2, 2, 2, 2, 2, 2, 2, 2, 2, 3, 3, 3, 3, 3, 3, 3, 3, 3, 3, 3, 3, 3, 3, 3, 3, 3, 3, 3, 3, 3, 3, 3, 3, 3, 3, 3, 3, 3, 3, 3, 3, 3, 3, 3, 3, 3, 3, 3, 3, 3, 3, 3, 3, 3, 3, 3, 3, 3, 3, 3, 3, 3, 3, 3, 3, 3, 3, 3, 3, 3, 3, 3, 3, 3, 3, 3, 3, 3, 3, 3, 3, 3, 3, 3, 3, 3, 4, 4, 4, 4, 4, 4, 4, 4, 4, 4, 4, 4, 4, 4, 4, 4, 4, 4, 4, 4, 4, 4, 4, 4, 4, 4, 4, 4, 4, 4, 4, 4, 4, 4, 4, 4, 4, 4, 4, 4, 4, 4, 4, 4, 4, 4, 4, 4, 4, 4, 4, 4, 4, 4, 4, 4, 4, 4, 4, 4, 4, 4, 4, 4, 4, 4, 4, 4, 4, 4, 4, 4, 4, 4, 4, 4, 4], [0, 1, 2, 3, 4, 5, 6, 7, 8, 9, 10, 11, 12, 13, 14, 15, 16, 17, 18, 19, 20, 21, 22, 23, 24, 25, 26, 27, 28, 29, 30, 31, 32, 33, 34, 35, 36, 37, 38, 39, 40, 41, 42, 43, 44, 45, 46, 47, 48, 49, 50, 51, 52, 53, 54, 55, 56, 57, 58, 59, 60, 61, 62, 63, 64, 65, 66, 67, 68, 69, 70, 71, 72, 73, 74, 75, 76, 0, 1, 2, 3, 4, 5, 6, 7, 8, 9, 10, 11, 12, 13, 14, 15, 16, 17, 18, 19, 20, 21, 22, 23, 24, 25, 26, 27, 28, 29, 30, 31, 32, 33, 34, 35, 36, 37, 38, 39, 40, 41, 42, 43, 44, 45, 46, 47, 48, 49, 50, 51, 52, 53, 54, 55, 56, 57, 58, 59, 60, 61, 62, 63, 64, 65, 66, 67, 68, 69, 70, 71, 72, 73, 74, 75, 76, 0, 1, 2, 3, 4, 5, 6, 7, 8, 9, 10, 11, 12, 13, 14, 15, 16, 17, 18, 19, 20, 21, 22, 23, 24, 25, 26, 27, 28, 29, 30, 31, 32, 33, 34, 35, 36, 37, 38, 39, 40, 41, 42, 43, 44, 45, 46, 47, 48, 49, 50, 51, 52, 53, 54, 55, 56, 57, 58, 59, 60, 61, 62, 63, 64, 65, 66, 67, 68, 69, 70, 71, 72, 73, 74, 75, 76, 0, 1, 2, 3, 4, 5, 6, 7, 8, 9, 10, 11, 12, 13, 14, 15, 16, 17, 18, 19, 20, 21, 22, 23, 24, 25, 26, 27, 28, 29, 30, 31, 32, 33, 34, 35, 36, 37, 38, 39, 40, 41, 42, 43, 44, 45, 46, 47, 48, 49, 50, 51, 52, 53, 54, 55, 56, 57, 58, 59, 60, 61, 62, 63, 64, 65, 66, 67, 68, 69, 70, 71, 72, 73, 74, 75, 76, 0, 1, 2, 3, 4, 5, 6, 7, 8, 9, 10, 11, 12, 13, 14, 15, 16, 17, 18, 19, 20, 21, 22, 23, 24, 25, 26, 27, 28, 29, 30, 31, 32, 33, 34, 35, 36, 37, 38, 39, 40, 41, 42, 43, 44, 45, 46, 47, 48, 49, 50, 51, 52, 53, 54, 55, 56, 57, 58, 59, 60, 61, 62, 63, 64, 65, 66, 67, 68, 69, 70, 71, 72, 73, 74, 75, 76]],\n",
       "           names=['method', 'APSI'])"
      ]
     },
     "execution_count": 68,
     "metadata": {},
     "output_type": "execute_result"
    }
   ],
   "source": [
    "type(by_meth_APSI.SPS.mean())\n",
    "\n",
    "\n",
    "data.index"
   ]
  },
  {
   "cell_type": "code",
   "execution_count": 47,
   "metadata": {
    "collapsed": false
   },
   "outputs": [
    {
     "data": {
      "text/plain": [
       "APSI        68.557504\n",
       "APSSI       -1.000000\n",
       "SPS          0.595140\n",
       "SCI          0.930547\n",
       "braliSCI    93.983044\n",
       "uniq         1.652185\n",
       "k            3.710321\n",
       "dtype: float64"
      ]
     },
     "execution_count": 47,
     "metadata": {},
     "output_type": "execute_result"
    }
   ],
   "source": [
    "df.mean()"
   ]
  },
  {
   "cell_type": "code",
   "execution_count": null,
   "metadata": {
    "collapsed": false
   },
   "outputs": [],
   "source": [
    "#iterrows, itertuples"
   ]
  },
  {
   "cell_type": "markdown",
   "metadata": {},
   "source": [
    "# estrai le media SCI per metodo del sottodataframe comprendente le righe con SPS superiore al 50% e APSI inferiore a 0.7"
   ]
  },
  {
   "cell_type": "code",
   "execution_count": null,
   "metadata": {
    "collapsed": true
   },
   "outputs": [],
   "source": []
  }
 ],
 "metadata": {
  "kernelspec": {
   "display_name": "Python 3",
   "language": "python",
   "name": "python3"
  },
  "language_info": {
   "codemirror_mode": {
    "name": "ipython",
    "version": 3
   },
   "file_extension": ".py",
   "mimetype": "text/x-python",
   "name": "python",
   "nbconvert_exporter": "python",
   "pygments_lexer": "ipython3",
   "version": "3.6.0"
  }
 },
 "nbformat": 4,
 "nbformat_minor": 2
}
