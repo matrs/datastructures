{
 "cells": [
  {
   "cell_type": "code",
   "execution_count": 1,
   "metadata": {
    "collapsed": true
   },
   "outputs": [],
   "source": [
    "import numpy as np"
   ]
  },
  {
   "cell_type": "code",
   "execution_count": 15,
   "metadata": {
    "collapsed": false
   },
   "outputs": [
    {
     "data": {
      "text/plain": [
       "{'A': {'A': 0.016071984070559542,\n",
       "  'C': 0.5790220168565988,\n",
       "  'G': 0.14749309923907983,\n",
       "  'T': 0.2574128998337618},\n",
       " 'C': {'A': 0.5266966964970067,\n",
       "  'C': 0.08403246305106093,\n",
       "  'G': 0.29523226462261043,\n",
       "  'T': 0.09403857582932196},\n",
       " 'G': {'A': 0.18323059156228694,\n",
       "  'C': 0.25332755530458084,\n",
       "  'G': 0.15782709599801636,\n",
       "  'T': 0.40561475713511586},\n",
       " 'T': {'A': 0.5319798878305895,\n",
       "  'C': 0.07813237789709893,\n",
       "  'G': 0.19713456062583534,\n",
       "  'T': 0.19275317364647626}}"
      ]
     },
     "execution_count": 15,
     "metadata": {},
     "output_type": "execute_result"
    }
   ],
   "source": [
    "def create_markov_chain():\n",
    "    markov_chain = {}\n",
    "    for from_base in 'ATGC':\n",
    "        #generate slice\n",
    "        slice_points = sorted([0] + [1] + [np.random.random() for i in range(3)])\n",
    "        #from slice to prob\n",
    "        transition_prob = [slice_points[i+1] - slice_points[i] \n",
    "                           for i in range(len(slice_points)-1)]\n",
    "        markov_chain[from_base] = {base:p \n",
    "                                   for base,p in zip('ATGC', transition_prob)}\n",
    "    return markov_chain\n",
    "\n",
    "mc = create_markov_chain()\n",
    "mc"
   ]
  },
  {
   "cell_type": "code",
   "execution_count": 16,
   "metadata": {
    "collapsed": false
   },
   "outputs": [],
   "source": [
    "def check_transition_probabilities(markov_chain):\n",
    "    \n",
    "    for from_base in markov_chain:\n",
    "        s = sum([markov_chain[from_base][to_base]\n",
    "                for to_base in markov_chain[from_base]])\n",
    "        if abs(s-1) > 1E-15:\n",
    "            raise ValueError('Wrong sum: {} for ”{}\"'.format(s, from_base))\n",
    "check_transition_probabilities(mc)"
   ]
  },
  {
   "cell_type": "code",
   "execution_count": 18,
   "metadata": {
    "collapsed": false
   },
   "outputs": [],
   "source": [
    "def mutate_via_markov_chain(dna, markov_chain):\n",
    "    dna_list = list(dna)\n",
    "    mutation_site = np.random.randint(0, len(dna_list))\n",
    "    from_base = dna[mutation_site]\n",
    "    to_base = draw(markov_chain[from_base])\n",
    "    dna_list[mutation_site] = to_base\n",
    "    return ''.join(dna_list)\n",
    "\n",
    "def draw(prob_dist):\n",
    "    tot = 0\n",
    "    r = np.random.random()\n",
    "    for to_base in prob_dist:\n",
    "        tot += prob_dist[to_base]\n",
    "        if r < tot:\n",
    "            return to_base\n"
   ]
  },
  {
   "cell_type": "code",
   "execution_count": 19,
   "metadata": {
    "collapsed": false
   },
   "outputs": [
    {
     "name": "stdout",
     "output_type": "stream",
     "text": [
      "Starting DNA: ATCGAGCAGCGCAATTACGAGCATCAGACGAGATCCCTTTATGACTATT\n",
      "Transition probs:\n",
      "{'A': {'A': 0.015489400027195677, 'T': 0.10882063363096917, 'G': 0.7962729865440858, 'C': 0.07941697979774931}, 'T': {'A': 0.03077984091478614, 'T': 0.4722456051405861, 'G': 0.3051495927775103, 'C': 0.19182496116711745}, 'G': {'A': 0.22295394189781115, 'T': 0.05595678185843789, 'G': 0.7060084717140624, 'C': 0.015080804529688518}, 'C': {'A': 0.5329190347449304, 'T': 0.13530077258640738, 'G': 0.21987750753763902, 'C': 0.1119026851310232}}\n",
      "DNA after 10000 mutations: GTGGGTAGGGGGCGAAAGGAATGAGGTGGGTGGATAGAGGGGTGGGTGG\n"
     ]
    }
   ],
   "source": [
    "dna = \"ATCGAGCAGCGCAATTACGAGCATCAGACGAGATCCCTTTATGACTATT\"\n",
    "print('Starting DNA: {}'.format(dna))\n",
    "\n",
    "mc = create_markov_chain()\n",
    "print('Transition probs:\\n{}'.format(mc))\n",
    "nmutations =10000\n",
    "for i in range(nmutations):\n",
    "    dna=mutate_via_markov_chain(dna, mc)\n",
    "    \n",
    "print('DNA after {} mutations: {}'.format(nmutations, dna))"
   ]
  },
  {
   "cell_type": "code",
   "execution_count": 26,
   "metadata": {
    "collapsed": false
   },
   "outputs": [
    {
     "name": "stdout",
     "output_type": "stream",
     "text": [
      "A: 0.0158 (exact 0.0155)\n",
      "T: 0.1085 (exact 0.1088)\n",
      "G: 0.7962 (exact 0.7963)\n",
      "C: 0.0795 (exact 0.0794)\n"
     ]
    }
   ],
   "source": [
    "def check_draw_approx(discrete_probdist, N=1000000):\n",
    "    frequencies = {value: 0 for value in discrete_probdist}\n",
    "    for i in range(N):\n",
    "        value = draw(discrete_probdist)\n",
    "        frequencies[value] += 1\n",
    "    for value in frequencies:\n",
    "        frequencies[value] /= float(N)\n",
    "    print( \"\\n\".join(['{}: {:.4f} (exact {:.4f})'.format(v, frequencies[v], discrete_probdist[v])\n",
    "           for v in frequencies]))\n",
    "check_draw_approx(mc['A'])"
   ]
  },
  {
   "cell_type": "markdown",
   "metadata": {},
   "source": [
    "# Ex -- compute the probability of P(Y=b) where b is any nucleotide\n",
    "\n",
    "# P(Y=b)=P(X=A∪Y=b)+P(X=C∪Y=b)+P(X=G∪Y=b)+P(X=T∪Y=b)\n",
    "\n",
    "## P(X=A∪Y=b) = P(X=A) P(Y=b  | X=A)      "
   ]
  },
  {
   "cell_type": "code",
   "execution_count": null,
   "metadata": {
    "collapsed": true
   },
   "outputs": [],
   "source": []
  },
  {
   "cell_type": "code",
   "execution_count": null,
   "metadata": {
    "collapsed": true
   },
   "outputs": [],
   "source": []
  },
  {
   "cell_type": "code",
   "execution_count": null,
   "metadata": {
    "collapsed": true
   },
   "outputs": [],
   "source": []
  }
 ],
 "metadata": {
  "kernelspec": {
   "display_name": "Python 3",
   "language": "python",
   "name": "python3"
  },
  "language_info": {
   "codemirror_mode": {
    "name": "ipython",
    "version": 3
   },
   "file_extension": ".py",
   "mimetype": "text/x-python",
   "name": "python",
   "nbconvert_exporter": "python",
   "pygments_lexer": "ipython3",
   "version": "3.6.0"
  }
 },
 "nbformat": 4,
 "nbformat_minor": 2
}
