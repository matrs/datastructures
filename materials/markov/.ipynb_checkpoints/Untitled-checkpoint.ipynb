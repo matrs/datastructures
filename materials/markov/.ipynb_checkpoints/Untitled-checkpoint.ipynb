{
 "cells": [
  {
   "cell_type": "code",
   "execution_count": 1,
   "metadata": {
    "collapsed": true
   },
   "outputs": [],
   "source": [
    "import numpy as np"
   ]
  },
  {
   "cell_type": "code",
   "execution_count": 11,
   "metadata": {
    "collapsed": false
   },
   "outputs": [
    {
     "data": {
      "text/plain": [
       "{'A': {'A': 0.5705713997735259,\n",
       "  'C': 0.1107101295182783,\n",
       "  'G': 0.13773444639239907,\n",
       "  'T': 0.18098402431579674},\n",
       " 'C': {'A': 0.1649802716955412,\n",
       "  'C': 0.10341156867849366,\n",
       "  'G': 0.4754813696260055,\n",
       "  'T': 0.25612678999995964},\n",
       " 'G': {'A': 0.21696854427246204,\n",
       "  'C': 0.34938853699163297,\n",
       "  'G': 0.011311855863688325,\n",
       "  'T': 0.42233106287221667},\n",
       " 'T': {'A': 0.6479722514361939,\n",
       "  'C': 0.028899687130075957,\n",
       "  'G': 0.15036304727562733,\n",
       "  'T': 0.17276501415810286}}"
      ]
     },
     "execution_count": 11,
     "metadata": {},
     "output_type": "execute_result"
    }
   ],
   "source": [
    "def create_markov_chain():\n",
    "    markov_chain = {}\n",
    "    for from_base in 'ATGC':\n",
    "        #generate slice\n",
    "        slice_points = sorted([0] + [1] + [np.random.random() for i in range(3)])\n",
    "        #from slice to prob\n",
    "        transition_prob = [slice_points[i+1] - slice_points[i] \n",
    "                           for i in range(len(slice_points)-1)]\n",
    "        markov_chain[from_base] = {base:p \n",
    "                                   for base,p in zip('ATGC', transition_prob)}\n",
    "    return markov_chain\n",
    "\n",
    "mc = create_markov_chain()\n",
    "mc"
   ]
  },
  {
   "cell_type": "code",
   "execution_count": 12,
   "metadata": {
    "collapsed": false
   },
   "outputs": [
    {
     "ename": "IndentationError",
     "evalue": "expected an indented block (<ipython-input-12-a567f3c73d3e>, line 8)",
     "output_type": "error",
     "traceback": [
      "\u001b[0;36m  File \u001b[0;32m\"<ipython-input-12-a567f3c73d3e>\"\u001b[0;36m, line \u001b[0;32m8\u001b[0m\n\u001b[0;31m    check_transition_probabilities(mc)\u001b[0m\n\u001b[0m                                      ^\u001b[0m\n\u001b[0;31mIndentationError\u001b[0m\u001b[0;31m:\u001b[0m expected an indented block\n"
     ]
    }
   ],
   "source": [
    "def check_transition_probabilities(markov_chain):\n",
    "    \n",
    "    for from_base in markov_chain:\n",
    "        s = sum([markov_chain[from_base][to_base]\n",
    "                for to_base in markov_chain[from_base]])\n",
    "        if abs(s-1) > 1E-15:\n",
    "            raise ValueError('Wrong sum: {} for ”{}\"'.format(s, from_base))\n",
    "check_transition_probabilities(mc)"
   ]
  },
  {
   "cell_type": "code",
   "execution_count": null,
   "metadata": {
    "collapsed": true
   },
   "outputs": [],
   "source": []
  }
 ],
 "metadata": {
  "kernelspec": {
   "display_name": "Python 3",
   "language": "python",
   "name": "python3"
  },
  "language_info": {
   "codemirror_mode": {
    "name": "ipython",
    "version": 3
   },
   "file_extension": ".py",
   "mimetype": "text/x-python",
   "name": "python",
   "nbconvert_exporter": "python",
   "pygments_lexer": "ipython3",
   "version": "3.6.0"
  }
 },
 "nbformat": 4,
 "nbformat_minor": 2
}
