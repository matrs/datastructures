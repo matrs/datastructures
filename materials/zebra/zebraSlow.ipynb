{
 "cells": [
  {
   "cell_type": "code",
   "execution_count": 3,
   "metadata": {
    "collapsed": false
   },
   "outputs": [],
   "source": [
    "import itertools\n",
    "import time\n",
    "def imright(right,left):\n",
    "\treturn 1==(right-left)\n",
    "\n",
    "def nextto(A,B):\n",
    "\treturn 1==(A-B) or 1==(B-A)\n",
    "\n",
    "def zebra_puzzle():\n",
    "\thouses = first, _ , middle, _, _ = [1,2,3,4,5]\n",
    "\torderings = list(itertools.permutations(houses))\n",
    "\n",
    "\tsolution=[(WATER, ZEBRA) \n",
    "\t\t\t\t\tfor (red,green,ivory,yellow,blue) in orderings\n",
    "\t\t\t\t\tfor (Englishman,Spaniard,Ukrainian,Japanese,Norwegian) in orderings\n",
    "\t\t\t\t\tfor (dog,snails, fox, horse, ZEBRA) in orderings\n",
    "\t\t\t\t\tfor (coffee, tea, milk, oj, WATER) in orderings\n",
    "\t\t\t\t\tfor (OldGold, Kools, Chesterfields, LuckyStrike, Parliaments) in orderings\n",
    "\t\t\t\t\tif Englishman is red\n",
    "\t\t\t\t\tif Spaniard is dog\n",
    "\t\t\t\t\tif coffee is green\n",
    "\t\t\t\t\tif Ukrainian is tea\n",
    "\t\t\t\t\tif imright(green,ivory)\n",
    "\t\t\t\t\tif OldGold is snails\n",
    "\t\t\t\t\tif Kools is yellow\n",
    "\t\t\t\t\tif milk is middle\n",
    "\t\t\t\t\tif Norwegian is first\n",
    "\t\t\t\t\tif nextto(Chesterfields, fox)\n",
    "\t\t\t\t\tif nextto(Kools, horse)\n",
    "\t\t\t\t\tif LuckyStrike is oj\n",
    "\t\t\t\t\tif Japanese is Parliaments\n",
    "\t\t\t\t\t#if nextto(Norwegian,blue)\n",
    "\t\t\t\t\t]\n",
    "\treturn solution\n",
    "\n"
   ]
  },
  {
   "cell_type": "code",
   "execution_count": 4,
   "metadata": {
    "collapsed": false
   },
   "outputs": [
    {
     "name": "stdout",
     "output_type": "stream",
     "text": [
      "[(1, 1), (1, 1), (1, 5), (1, 4), (1, 2), (2, 1), (2, 5), (5, 4), (4, 1), (1, 4), (1, 2), (4, 5), (1, 5), (2, 4), (1, 5), (1, 5), (4, 2), (4, 2), (1, 5), (1, 1), (1, 5), (1, 5), (1, 4), (1, 2), (1, 4), (5, 4), (1, 4), (1, 2), (5, 4), (5, 2), (1, 2), (5, 2)]\n",
      "1907.7170670032501 s\n"
     ]
    }
   ],
   "source": [
    "t0=time.time()\n",
    "print(zebra_puzzle())\n",
    "t1=time.time()\n",
    "print(str(t1-t0) + \" s\")"
   ]
  },
  {
   "cell_type": "code",
   "execution_count": null,
   "metadata": {
    "collapsed": true
   },
   "outputs": [],
   "source": []
  }
 ],
 "metadata": {
  "kernelspec": {
   "display_name": "Python 3",
   "language": "python",
   "name": "python3"
  },
  "language_info": {
   "codemirror_mode": {
    "name": "ipython",
    "version": 3
   },
   "file_extension": ".py",
   "mimetype": "text/x-python",
   "name": "python",
   "nbconvert_exporter": "python",
   "pygments_lexer": "ipython3",
   "version": "3.6.0"
  }
 },
 "nbformat": 4,
 "nbformat_minor": 2
}
