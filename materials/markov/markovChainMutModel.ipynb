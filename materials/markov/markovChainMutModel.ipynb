{
 "cells": [
  {
   "cell_type": "code",
   "execution_count": 4,
   "metadata": {
    "collapsed": true
   },
   "outputs": [],
   "source": [
    "# @credit to http://hplgit.github.io/bioinf-py/doc/pub/bioinf-py.html\n",
    "import numpy as np"
   ]
  },
  {
   "cell_type": "code",
   "execution_count": 5,
   "metadata": {
    "collapsed": false
   },
   "outputs": [
    {
     "name": "stdout",
     "output_type": "stream",
     "text": [
      "{'A': {'A': 0.2566090394542039, 'T': 0.3110314695851234, 'G': 0.3874623569403416, 'C': 0.04489713402033113}, 'T': {'A': 0.03823166197315908, 'T': 0.24527083900005264, 'G': 0.029779931438375318, 'C': 0.686717567588413}, 'G': {'A': 0.3177567356787766, 'T': 0.1347075070797591, 'G': 0.1827783416903943, 'C': 0.36475741555107}, 'C': {'A': 0.00548257014064002, 'T': 0.7057365603709234, 'G': 0.03673780813064276, 'C': 0.25204306135779386}}\n",
      "0.3110314695851234\n"
     ]
    }
   ],
   "source": [
    "def create_markov_chain():\n",
    "    markov_chain = {}\n",
    "    for from_base in 'ATGC':\n",
    "        # Generate random transition probabilities by dividing\n",
    "        # [0,1] into four intervals of random length\n",
    "        slice_points = sorted(\n",
    "           [0] + [np.random.random()for i in range(3)] + [1])\n",
    "        transition_probabilities = [slice_points[i+1] - slice_points[i] for i in range(4)]\n",
    "        markov_chain[from_base] = {base: p for base, p\n",
    "                         in zip('ATGC', transition_probabilities)}\n",
    "    return markov_chain\n",
    "\n",
    "mc = create_markov_chain()\n",
    "print(mc)\n",
    "print(mc['A']['T']) # probability of transition from A to T"
   ]
  },
  {
   "cell_type": "code",
   "execution_count": 8,
   "metadata": {
    "collapsed": false
   },
   "outputs": [],
   "source": [
    "def check_transition_probabilities(markov_chain):\n",
    "    for from_base in 'ATGC':\n",
    "        s = sum(markov_chain[from_base][to_base]\n",
    "                for to_base in 'ATGC')\n",
    "        if abs(s - 1) > 1E-15:\n",
    "            raise ValueError('Wrong sum: {} for \"{}\"'.format(s, from_base))\n",
    "\n",
    "check_transition_probabilities(mc)"
   ]
  },
  {
   "cell_type": "code",
   "execution_count": 18,
   "metadata": {
    "collapsed": false
   },
   "outputs": [
    {
     "data": {
      "text/plain": [
       "'G'"
      ]
     },
     "execution_count": 18,
     "metadata": {},
     "output_type": "execute_result"
    }
   ],
   "source": [
    "def draw(discrete_probdist):\n",
    "    \"\"\"\n",
    "    Draw random value from discrete probability distribution\n",
    "    represented as a dict: P(x=value) = discrete_probdist[value].\n",
    "    \"\"\"\n",
    "    limit = 0\n",
    "    r = np.random.random()\n",
    "    for value in discrete_probdist:\n",
    "        limit += discrete_probdist[value]\n",
    "        if r < limit:\n",
    "            return value\n",
    "    \n",
    "draw(mc['A'])"
   ]
  },
  {
   "cell_type": "code",
   "execution_count": 19,
   "metadata": {
    "collapsed": false
   },
   "outputs": [
    {
     "name": "stdout",
     "output_type": "stream",
     "text": [
      "A: 0.2555 (exact 0.2566), T: 0.3108 (exact 0.3110), G: 0.3889 (exact 0.3875), C: 0.0448 (exact 0.0449)\n"
     ]
    }
   ],
   "source": [
    "def check_draw_approx(discrete_probdist, N=1000000):\n",
    "    \"\"\"\n",
    "    See if draw results in frequencies approx equal to\n",
    "    the probability distribution.\n",
    "    \"\"\"\n",
    "    frequencies = {value: 0 for value in discrete_probdist}\n",
    "    for i in range(N):\n",
    "        value = draw(discrete_probdist)\n",
    "        frequencies[value] += 1\n",
    "    for value in frequencies:\n",
    "        frequencies[value] /= float(N)\n",
    "    print(\", \".join(['{}: {:.4f} (exact {:.4f})'.format(v, frequencies[v], discrete_probdist[v])\n",
    "                     for v in frequencies]))\n",
    "    \n",
    "check_draw_approx(mc['A'])"
   ]
  },
  {
   "cell_type": "code",
   "execution_count": 27,
   "metadata": {
    "collapsed": true
   },
   "outputs": [],
   "source": [
    "def mutate_via_markov_chain(dna, markov_chain):\n",
    "    dna_list = list(dna)\n",
    "    mutation_site = np.random.randint(0, len(dna_list) - 1)\n",
    "    from_base = dna[mutation_site]\n",
    "    to_base = draw(markov_chain[from_base])\n",
    "    dna_list[mutation_site] = to_base\n",
    "    return ''.join(dna_list)"
   ]
  },
  {
   "cell_type": "code",
   "execution_count": 31,
   "metadata": {
    "collapsed": false
   },
   "outputs": [
    {
     "name": "stdout",
     "output_type": "stream",
     "text": [
      "Starting DNA:TTACGGAGATTTCGGTATGCAT\n",
      "Transition probabilities:\n",
      "{'A': {'A': 0.2631572284073256,\n",
      "       'C': 0.33537564440415213,\n",
      "       'G': 0.27271323344603615,\n",
      "       'T': 0.12875389374248614},\n",
      " 'C': {'A': 0.6815893623135026,\n",
      "       'C': 0.07373508989716737,\n",
      "       'G': 0.0692042058882929,\n",
      "       'T': 0.17547134190103708},\n",
      " 'G': {'A': 0.4454265290803351,\n",
      "       'C': 0.14363042154105443,\n",
      "       'G': 0.07953223098526196,\n",
      "       'T': 0.3314108183933485},\n",
      " 'T': {'A': 0.469408775198517,\n",
      "       'C': 0.34494264890136905,\n",
      "       'G': 0.07112846756907987,\n",
      "       'T': 0.1145201083310341}}\n",
      "DNA after 10000 mutations (Markov chain): ATGATAAGGAAAACAAACGAAT\n"
     ]
    }
   ],
   "source": [
    "dna = 'TTACGGAGATTTCGGTATGCAT'\n",
    "print('Starting DNA:{}'.format(dna))\n",
    "#print(format_frequencies(get_base_frequencies_v2(dna)))\n",
    "\n",
    "mc = create_markov_chain()\n",
    "import pprint\n",
    "print('Transition probabilities:\\n{}'.format(pprint.pformat(mc)))\n",
    "nmutations = 10000\n",
    "for i in range(nmutations):\n",
    "    dna = mutate_via_markov_chain(dna, mc)\n",
    "\n",
    "print('DNA after %d mutations (Markov chain):' % nmutations, dna)\n",
    "#print(format_frequencies(get_base_frequencies_v2(dna)))"
   ]
  },
  {
   "cell_type": "markdown",
   "metadata": {},
   "source": [
    "#####\n",
    "# Ex -- compute the probability of P(Y=b) where b is any nucleotide\n",
    "\n",
    "### Solution --v"
   ]
  },
  {
   "cell_type": "code",
   "execution_count": 32,
   "metadata": {
    "collapsed": false
   },
   "outputs": [
    {
     "name": "stdout",
     "output_type": "stream",
     "text": [
      "{'A': 0.46489547374992, 'T': 0.18753904059197646, 'G': 0.12314453447216772, 'C': 0.22442095118593575}\n"
     ]
    }
   ],
   "source": [
    "def transition_into_bases(markov_chain):\n",
    "    return {to_base: sum(markov_chain[from_base][to_base]\n",
    "                         for from_base in 'ATGC')/4.0\n",
    "            for to_base in 'ATGC'}\n",
    "\n",
    "print(transition_into_bases(mc))"
   ]
  },
  {
   "cell_type": "markdown",
   "metadata": {},
   "source": [
    "## Ex2 -- compute base frequencies"
   ]
  },
  {
   "cell_type": "code",
   "execution_count": 34,
   "metadata": {
    "collapsed": false
   },
   "outputs": [
    {
     "data": {
      "text/plain": [
       "{'A': 0.5909090909090909,\n",
       " 'C': 0.09090909090909091,\n",
       " 'G': 0.18181818181818182,\n",
       " 'T': 0.13636363636363635}"
      ]
     },
     "execution_count": 34,
     "metadata": {},
     "output_type": "execute_result"
    }
   ],
   "source": [
    "def get_base_frequencies_v2(dna):\n",
    "        return {base: dna.count(base)/float(len(dna))\n",
    "                for base in 'ATGC'}\n",
    "get_base_frequencies_v2(dna)"
   ]
  },
  {
   "cell_type": "code",
   "execution_count": null,
   "metadata": {
    "collapsed": true
   },
   "outputs": [],
   "source": []
  }
 ],
 "metadata": {
  "kernelspec": {
   "display_name": "Python 3",
   "language": "python",
   "name": "python3"
  },
  "language_info": {
   "codemirror_mode": {
    "name": "ipython",
    "version": 3
   },
   "file_extension": ".py",
   "mimetype": "text/x-python",
   "name": "python",
   "nbconvert_exporter": "python",
   "pygments_lexer": "ipython3",
   "version": "3.6.0"
  }
 },
 "nbformat": 4,
 "nbformat_minor": 2
}
